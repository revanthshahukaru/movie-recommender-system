{
 "cells": [
  {
   "cell_type": "code",
   "execution_count": 605,
   "id": "97d93606",
   "metadata": {},
   "outputs": [],
   "source": [
    "import pandas as pd\n",
    "pd.set_option('display.max_colwidth', None)\n",
    "pd.set_option('display.max_columns', None)\n",
    "pd.set_option('display.max_rows', None)"
   ]
  },
  {
   "cell_type": "code",
   "execution_count": 5,
   "id": "00346b56",
   "metadata": {},
   "outputs": [],
   "source": [
    "data = pd.read_csv('movies_metadata.csv',low_memory=False)"
   ]
  },
  {
   "cell_type": "code",
   "execution_count": 6,
   "id": "95247c73",
   "metadata": {},
   "outputs": [
    {
     "data": {
      "text/plain": [
       "0                                             [{'iso_639_1': 'en', 'name': 'English'}]\n",
       "1    [{'iso_639_1': 'en', 'name': 'English'}, {'iso_639_1': 'fr', 'name': 'Français'}]\n",
       "2                                             [{'iso_639_1': 'en', 'name': 'English'}]\n",
       "3                                             [{'iso_639_1': 'en', 'name': 'English'}]\n",
       "4                                             [{'iso_639_1': 'en', 'name': 'English'}]\n",
       "Name: spoken_languages, dtype: object"
      ]
     },
     "execution_count": 6,
     "metadata": {},
     "output_type": "execute_result"
    }
   ],
   "source": [
    "data['spoken_languages'].head()"
   ]
  },
  {
   "cell_type": "code",
   "execution_count": 7,
   "id": "0745e9fc",
   "metadata": {},
   "outputs": [
    {
     "data": {
      "text/html": [
       "<div>\n",
       "<style scoped>\n",
       "    .dataframe tbody tr th:only-of-type {\n",
       "        vertical-align: middle;\n",
       "    }\n",
       "\n",
       "    .dataframe tbody tr th {\n",
       "        vertical-align: top;\n",
       "    }\n",
       "\n",
       "    .dataframe thead th {\n",
       "        text-align: right;\n",
       "    }\n",
       "</style>\n",
       "<table border=\"1\" class=\"dataframe\">\n",
       "  <thead>\n",
       "    <tr style=\"text-align: right;\">\n",
       "      <th></th>\n",
       "      <th>adult</th>\n",
       "      <th>belongs_to_collection</th>\n",
       "      <th>budget</th>\n",
       "      <th>genres</th>\n",
       "      <th>homepage</th>\n",
       "      <th>id</th>\n",
       "      <th>imdb_id</th>\n",
       "      <th>original_language</th>\n",
       "      <th>original_title</th>\n",
       "      <th>overview</th>\n",
       "      <th>popularity</th>\n",
       "      <th>poster_path</th>\n",
       "      <th>production_companies</th>\n",
       "      <th>production_countries</th>\n",
       "      <th>release_date</th>\n",
       "      <th>revenue</th>\n",
       "      <th>runtime</th>\n",
       "      <th>spoken_languages</th>\n",
       "      <th>status</th>\n",
       "      <th>tagline</th>\n",
       "      <th>title</th>\n",
       "      <th>video</th>\n",
       "      <th>vote_average</th>\n",
       "      <th>vote_count</th>\n",
       "    </tr>\n",
       "  </thead>\n",
       "  <tbody>\n",
       "    <tr>\n",
       "      <th>0</th>\n",
       "      <td>False</td>\n",
       "      <td>{'id': 10194, 'name': 'Toy Story Collection', 'poster_path': '/7G9915LfUQ2lVfwMEEhDsn3kT4B.jpg', 'backdrop_path': '/9FBwqcd9IRruEDUrTdcaafOMKUq.jpg'}</td>\n",
       "      <td>30000000</td>\n",
       "      <td>[{'id': 16, 'name': 'Animation'}, {'id': 35, 'name': 'Comedy'}, {'id': 10751, 'name': 'Family'}]</td>\n",
       "      <td>http://toystory.disney.com/toy-story</td>\n",
       "      <td>862</td>\n",
       "      <td>tt0114709</td>\n",
       "      <td>en</td>\n",
       "      <td>Toy Story</td>\n",
       "      <td>Led by Woody, Andy's toys live happily in his room until Andy's birthday brings Buzz Lightyear onto the scene. Afraid of losing his place in Andy's heart, Woody plots against Buzz. But when circumstances separate Buzz and Woody from their owner, the duo eventually learns to put aside their differences.</td>\n",
       "      <td>21.946943</td>\n",
       "      <td>/rhIRbceoE9lR4veEXuwCC2wARtG.jpg</td>\n",
       "      <td>[{'name': 'Pixar Animation Studios', 'id': 3}]</td>\n",
       "      <td>[{'iso_3166_1': 'US', 'name': 'United States of America'}]</td>\n",
       "      <td>1995-10-30</td>\n",
       "      <td>373554033.0</td>\n",
       "      <td>81.0</td>\n",
       "      <td>[{'iso_639_1': 'en', 'name': 'English'}]</td>\n",
       "      <td>Released</td>\n",
       "      <td>NaN</td>\n",
       "      <td>Toy Story</td>\n",
       "      <td>False</td>\n",
       "      <td>7.7</td>\n",
       "      <td>5415.0</td>\n",
       "    </tr>\n",
       "    <tr>\n",
       "      <th>1</th>\n",
       "      <td>False</td>\n",
       "      <td>NaN</td>\n",
       "      <td>65000000</td>\n",
       "      <td>[{'id': 12, 'name': 'Adventure'}, {'id': 14, 'name': 'Fantasy'}, {'id': 10751, 'name': 'Family'}]</td>\n",
       "      <td>NaN</td>\n",
       "      <td>8844</td>\n",
       "      <td>tt0113497</td>\n",
       "      <td>en</td>\n",
       "      <td>Jumanji</td>\n",
       "      <td>When siblings Judy and Peter discover an enchanted board game that opens the door to a magical world, they unwittingly invite Alan -- an adult who's been trapped inside the game for 26 years -- into their living room. Alan's only hope for freedom is to finish the game, which proves risky as all three find themselves running from giant rhinoceroses, evil monkeys and other terrifying creatures.</td>\n",
       "      <td>17.015539</td>\n",
       "      <td>/vzmL6fP7aPKNKPRTFnZmiUfciyV.jpg</td>\n",
       "      <td>[{'name': 'TriStar Pictures', 'id': 559}, {'name': 'Teitler Film', 'id': 2550}, {'name': 'Interscope Communications', 'id': 10201}]</td>\n",
       "      <td>[{'iso_3166_1': 'US', 'name': 'United States of America'}]</td>\n",
       "      <td>1995-12-15</td>\n",
       "      <td>262797249.0</td>\n",
       "      <td>104.0</td>\n",
       "      <td>[{'iso_639_1': 'en', 'name': 'English'}, {'iso_639_1': 'fr', 'name': 'Français'}]</td>\n",
       "      <td>Released</td>\n",
       "      <td>Roll the dice and unleash the excitement!</td>\n",
       "      <td>Jumanji</td>\n",
       "      <td>False</td>\n",
       "      <td>6.9</td>\n",
       "      <td>2413.0</td>\n",
       "    </tr>\n",
       "    <tr>\n",
       "      <th>2</th>\n",
       "      <td>False</td>\n",
       "      <td>{'id': 119050, 'name': 'Grumpy Old Men Collection', 'poster_path': '/nLvUdqgPgm3F85NMCii9gVFUcet.jpg', 'backdrop_path': '/hypTnLot2z8wpFS7qwsQHW1uV8u.jpg'}</td>\n",
       "      <td>0</td>\n",
       "      <td>[{'id': 10749, 'name': 'Romance'}, {'id': 35, 'name': 'Comedy'}]</td>\n",
       "      <td>NaN</td>\n",
       "      <td>15602</td>\n",
       "      <td>tt0113228</td>\n",
       "      <td>en</td>\n",
       "      <td>Grumpier Old Men</td>\n",
       "      <td>A family wedding reignites the ancient feud between next-door neighbors and fishing buddies John and Max. Meanwhile, a sultry Italian divorcée opens a restaurant at the local bait shop, alarming the locals who worry she'll scare the fish away. But she's less interested in seafood than she is in cooking up a hot time with Max.</td>\n",
       "      <td>11.7129</td>\n",
       "      <td>/6ksm1sjKMFLbO7UY2i6G1ju9SML.jpg</td>\n",
       "      <td>[{'name': 'Warner Bros.', 'id': 6194}, {'name': 'Lancaster Gate', 'id': 19464}]</td>\n",
       "      <td>[{'iso_3166_1': 'US', 'name': 'United States of America'}]</td>\n",
       "      <td>1995-12-22</td>\n",
       "      <td>0.0</td>\n",
       "      <td>101.0</td>\n",
       "      <td>[{'iso_639_1': 'en', 'name': 'English'}]</td>\n",
       "      <td>Released</td>\n",
       "      <td>Still Yelling. Still Fighting. Still Ready for Love.</td>\n",
       "      <td>Grumpier Old Men</td>\n",
       "      <td>False</td>\n",
       "      <td>6.5</td>\n",
       "      <td>92.0</td>\n",
       "    </tr>\n",
       "    <tr>\n",
       "      <th>3</th>\n",
       "      <td>False</td>\n",
       "      <td>NaN</td>\n",
       "      <td>16000000</td>\n",
       "      <td>[{'id': 35, 'name': 'Comedy'}, {'id': 18, 'name': 'Drama'}, {'id': 10749, 'name': 'Romance'}]</td>\n",
       "      <td>NaN</td>\n",
       "      <td>31357</td>\n",
       "      <td>tt0114885</td>\n",
       "      <td>en</td>\n",
       "      <td>Waiting to Exhale</td>\n",
       "      <td>Cheated on, mistreated and stepped on, the women are holding their breath, waiting for the elusive \"good man\" to break a string of less-than-stellar lovers. Friends and confidants Vannah, Bernie, Glo and Robin talk it all out, determined to find a better way to breathe.</td>\n",
       "      <td>3.859495</td>\n",
       "      <td>/16XOMpEaLWkrcPqSQqhTmeJuqQl.jpg</td>\n",
       "      <td>[{'name': 'Twentieth Century Fox Film Corporation', 'id': 306}]</td>\n",
       "      <td>[{'iso_3166_1': 'US', 'name': 'United States of America'}]</td>\n",
       "      <td>1995-12-22</td>\n",
       "      <td>81452156.0</td>\n",
       "      <td>127.0</td>\n",
       "      <td>[{'iso_639_1': 'en', 'name': 'English'}]</td>\n",
       "      <td>Released</td>\n",
       "      <td>Friends are the people who let you be yourself... and never let you forget it.</td>\n",
       "      <td>Waiting to Exhale</td>\n",
       "      <td>False</td>\n",
       "      <td>6.1</td>\n",
       "      <td>34.0</td>\n",
       "    </tr>\n",
       "    <tr>\n",
       "      <th>4</th>\n",
       "      <td>False</td>\n",
       "      <td>{'id': 96871, 'name': 'Father of the Bride Collection', 'poster_path': '/nts4iOmNnq7GNicycMJ9pSAn204.jpg', 'backdrop_path': '/7qwE57OVZmMJChBpLEbJEmzUydk.jpg'}</td>\n",
       "      <td>0</td>\n",
       "      <td>[{'id': 35, 'name': 'Comedy'}]</td>\n",
       "      <td>NaN</td>\n",
       "      <td>11862</td>\n",
       "      <td>tt0113041</td>\n",
       "      <td>en</td>\n",
       "      <td>Father of the Bride Part II</td>\n",
       "      <td>Just when George Banks has recovered from his daughter's wedding, he receives the news that she's pregnant ... and that George's wife, Nina, is expecting too. He was planning on selling their home, but that's a plan that -- like George -- will have to change with the arrival of both a grandchild and a kid of his own.</td>\n",
       "      <td>8.387519</td>\n",
       "      <td>/e64sOI48hQXyru7naBFyssKFxVd.jpg</td>\n",
       "      <td>[{'name': 'Sandollar Productions', 'id': 5842}, {'name': 'Touchstone Pictures', 'id': 9195}]</td>\n",
       "      <td>[{'iso_3166_1': 'US', 'name': 'United States of America'}]</td>\n",
       "      <td>1995-02-10</td>\n",
       "      <td>76578911.0</td>\n",
       "      <td>106.0</td>\n",
       "      <td>[{'iso_639_1': 'en', 'name': 'English'}]</td>\n",
       "      <td>Released</td>\n",
       "      <td>Just When His World Is Back To Normal... He's In For The Surprise Of His Life!</td>\n",
       "      <td>Father of the Bride Part II</td>\n",
       "      <td>False</td>\n",
       "      <td>5.7</td>\n",
       "      <td>173.0</td>\n",
       "    </tr>\n",
       "  </tbody>\n",
       "</table>\n",
       "</div>"
      ],
      "text/plain": [
       "   adult   \n",
       "0  False  \\\n",
       "1  False   \n",
       "2  False   \n",
       "3  False   \n",
       "4  False   \n",
       "\n",
       "                                                                                                                                             belongs_to_collection   \n",
       "0            {'id': 10194, 'name': 'Toy Story Collection', 'poster_path': '/7G9915LfUQ2lVfwMEEhDsn3kT4B.jpg', 'backdrop_path': '/9FBwqcd9IRruEDUrTdcaafOMKUq.jpg'}  \\\n",
       "1                                                                                                                                                              NaN   \n",
       "2      {'id': 119050, 'name': 'Grumpy Old Men Collection', 'poster_path': '/nLvUdqgPgm3F85NMCii9gVFUcet.jpg', 'backdrop_path': '/hypTnLot2z8wpFS7qwsQHW1uV8u.jpg'}   \n",
       "3                                                                                                                                                              NaN   \n",
       "4  {'id': 96871, 'name': 'Father of the Bride Collection', 'poster_path': '/nts4iOmNnq7GNicycMJ9pSAn204.jpg', 'backdrop_path': '/7qwE57OVZmMJChBpLEbJEmzUydk.jpg'}   \n",
       "\n",
       "     budget   \n",
       "0  30000000  \\\n",
       "1  65000000   \n",
       "2         0   \n",
       "3  16000000   \n",
       "4         0   \n",
       "\n",
       "                                                                                              genres   \n",
       "0   [{'id': 16, 'name': 'Animation'}, {'id': 35, 'name': 'Comedy'}, {'id': 10751, 'name': 'Family'}]  \\\n",
       "1  [{'id': 12, 'name': 'Adventure'}, {'id': 14, 'name': 'Fantasy'}, {'id': 10751, 'name': 'Family'}]   \n",
       "2                                   [{'id': 10749, 'name': 'Romance'}, {'id': 35, 'name': 'Comedy'}]   \n",
       "3      [{'id': 35, 'name': 'Comedy'}, {'id': 18, 'name': 'Drama'}, {'id': 10749, 'name': 'Romance'}]   \n",
       "4                                                                     [{'id': 35, 'name': 'Comedy'}]   \n",
       "\n",
       "                               homepage     id    imdb_id original_language   \n",
       "0  http://toystory.disney.com/toy-story    862  tt0114709                en  \\\n",
       "1                                   NaN   8844  tt0113497                en   \n",
       "2                                   NaN  15602  tt0113228                en   \n",
       "3                                   NaN  31357  tt0114885                en   \n",
       "4                                   NaN  11862  tt0113041                en   \n",
       "\n",
       "                original_title   \n",
       "0                    Toy Story  \\\n",
       "1                      Jumanji   \n",
       "2             Grumpier Old Men   \n",
       "3            Waiting to Exhale   \n",
       "4  Father of the Bride Part II   \n",
       "\n",
       "                                                                                                                                                                                                                                                                                                                                                                                                      overview   \n",
       "0                                                                                              Led by Woody, Andy's toys live happily in his room until Andy's birthday brings Buzz Lightyear onto the scene. Afraid of losing his place in Andy's heart, Woody plots against Buzz. But when circumstances separate Buzz and Woody from their owner, the duo eventually learns to put aside their differences.  \\\n",
       "1  When siblings Judy and Peter discover an enchanted board game that opens the door to a magical world, they unwittingly invite Alan -- an adult who's been trapped inside the game for 26 years -- into their living room. Alan's only hope for freedom is to finish the game, which proves risky as all three find themselves running from giant rhinoceroses, evil monkeys and other terrifying creatures.   \n",
       "2                                                                      A family wedding reignites the ancient feud between next-door neighbors and fishing buddies John and Max. Meanwhile, a sultry Italian divorcée opens a restaurant at the local bait shop, alarming the locals who worry she'll scare the fish away. But she's less interested in seafood than she is in cooking up a hot time with Max.   \n",
       "3                                                                                                                               Cheated on, mistreated and stepped on, the women are holding their breath, waiting for the elusive \"good man\" to break a string of less-than-stellar lovers. Friends and confidants Vannah, Bernie, Glo and Robin talk it all out, determined to find a better way to breathe.   \n",
       "4                                                                               Just when George Banks has recovered from his daughter's wedding, he receives the news that she's pregnant ... and that George's wife, Nina, is expecting too. He was planning on selling their home, but that's a plan that -- like George -- will have to change with the arrival of both a grandchild and a kid of his own.   \n",
       "\n",
       "  popularity                       poster_path   \n",
       "0  21.946943  /rhIRbceoE9lR4veEXuwCC2wARtG.jpg  \\\n",
       "1  17.015539  /vzmL6fP7aPKNKPRTFnZmiUfciyV.jpg   \n",
       "2    11.7129  /6ksm1sjKMFLbO7UY2i6G1ju9SML.jpg   \n",
       "3   3.859495  /16XOMpEaLWkrcPqSQqhTmeJuqQl.jpg   \n",
       "4   8.387519  /e64sOI48hQXyru7naBFyssKFxVd.jpg   \n",
       "\n",
       "                                                                                                                  production_companies   \n",
       "0                                                                                       [{'name': 'Pixar Animation Studios', 'id': 3}]  \\\n",
       "1  [{'name': 'TriStar Pictures', 'id': 559}, {'name': 'Teitler Film', 'id': 2550}, {'name': 'Interscope Communications', 'id': 10201}]   \n",
       "2                                                      [{'name': 'Warner Bros.', 'id': 6194}, {'name': 'Lancaster Gate', 'id': 19464}]   \n",
       "3                                                                      [{'name': 'Twentieth Century Fox Film Corporation', 'id': 306}]   \n",
       "4                                         [{'name': 'Sandollar Productions', 'id': 5842}, {'name': 'Touchstone Pictures', 'id': 9195}]   \n",
       "\n",
       "                                         production_countries release_date   \n",
       "0  [{'iso_3166_1': 'US', 'name': 'United States of America'}]   1995-10-30  \\\n",
       "1  [{'iso_3166_1': 'US', 'name': 'United States of America'}]   1995-12-15   \n",
       "2  [{'iso_3166_1': 'US', 'name': 'United States of America'}]   1995-12-22   \n",
       "3  [{'iso_3166_1': 'US', 'name': 'United States of America'}]   1995-12-22   \n",
       "4  [{'iso_3166_1': 'US', 'name': 'United States of America'}]   1995-02-10   \n",
       "\n",
       "       revenue  runtime   \n",
       "0  373554033.0     81.0  \\\n",
       "1  262797249.0    104.0   \n",
       "2          0.0    101.0   \n",
       "3   81452156.0    127.0   \n",
       "4   76578911.0    106.0   \n",
       "\n",
       "                                                                    spoken_languages   \n",
       "0                                           [{'iso_639_1': 'en', 'name': 'English'}]  \\\n",
       "1  [{'iso_639_1': 'en', 'name': 'English'}, {'iso_639_1': 'fr', 'name': 'Français'}]   \n",
       "2                                           [{'iso_639_1': 'en', 'name': 'English'}]   \n",
       "3                                           [{'iso_639_1': 'en', 'name': 'English'}]   \n",
       "4                                           [{'iso_639_1': 'en', 'name': 'English'}]   \n",
       "\n",
       "     status   \n",
       "0  Released  \\\n",
       "1  Released   \n",
       "2  Released   \n",
       "3  Released   \n",
       "4  Released   \n",
       "\n",
       "                                                                          tagline   \n",
       "0                                                                             NaN  \\\n",
       "1                                       Roll the dice and unleash the excitement!   \n",
       "2                            Still Yelling. Still Fighting. Still Ready for Love.   \n",
       "3  Friends are the people who let you be yourself... and never let you forget it.   \n",
       "4  Just When His World Is Back To Normal... He's In For The Surprise Of His Life!   \n",
       "\n",
       "                         title  video  vote_average  vote_count  \n",
       "0                    Toy Story  False           7.7      5415.0  \n",
       "1                      Jumanji  False           6.9      2413.0  \n",
       "2             Grumpier Old Men  False           6.5        92.0  \n",
       "3            Waiting to Exhale  False           6.1        34.0  \n",
       "4  Father of the Bride Part II  False           5.7       173.0  "
      ]
     },
     "execution_count": 7,
     "metadata": {},
     "output_type": "execute_result"
    }
   ],
   "source": [
    "data.head()"
   ]
  },
  {
   "cell_type": "code",
   "execution_count": 8,
   "id": "39cdf2b3",
   "metadata": {},
   "outputs": [],
   "source": [
    "import ast\n",
    "\n",
    "# Fill missing values in 'genres' column with '[]' as a string\n",
    "data['genres'] = data['genres'].fillna('[]')\n",
    "\n",
    "# Convert string representation of list to an actual list using ast.literal_eval\n",
    "data['genres'] = data['genres'].apply(ast.literal_eval)\n",
    "\n",
    "# Extract genre names from the list of dictionaries using list comprehension\n",
    "data['genres'] = data['genres'].apply(lambda x: [i['name'] for i in x] if isinstance(x, list) else [])"
   ]
  },
  {
   "cell_type": "code",
   "execution_count": 9,
   "id": "2ed95b55",
   "metadata": {},
   "outputs": [],
   "source": [
    "# Extract 'original_language', 'spoken_languages', 'poster_path', and 'revenue'\n",
    "data['original_language'] = data['original_language'].fillna('')\n",
    "data['spoken_languages'] = data['spoken_languages'].apply(lambda x: [i['iso_639_1'] for i in x] if isinstance(x, list) else [])\n",
    "data['poster_path'] = data['poster_path'].fillna('')\n",
    "data['revenue'] = data['revenue'].fillna(0)\n",
    "\n",
    "data['year'] = pd.to_datetime(data['release_date'], errors='coerce').dt.year.astype('Int64')\n",
    "\n",
    "q_90 = data['vote_count'].quantile(0.90)\n",
    "\n",
    "pop_data = data[(data['vote_count'] >= q_90) & (data['vote_count'].notnull()) & (data['vote_average'].notnull())][['title', 'year', 'vote_count', 'vote_average', 'popularity', 'genres', 'original_language', 'spoken_languages', 'poster_path', 'revenue']]\n"
   ]
  },
  {
   "cell_type": "code",
   "execution_count": 10,
   "id": "809fd889",
   "metadata": {},
   "outputs": [
    {
     "data": {
      "text/html": [
       "<div>\n",
       "<style scoped>\n",
       "    .dataframe tbody tr th:only-of-type {\n",
       "        vertical-align: middle;\n",
       "    }\n",
       "\n",
       "    .dataframe tbody tr th {\n",
       "        vertical-align: top;\n",
       "    }\n",
       "\n",
       "    .dataframe thead th {\n",
       "        text-align: right;\n",
       "    }\n",
       "</style>\n",
       "<table border=\"1\" class=\"dataframe\">\n",
       "  <thead>\n",
       "    <tr style=\"text-align: right;\">\n",
       "      <th></th>\n",
       "      <th>title</th>\n",
       "      <th>year</th>\n",
       "      <th>vote_count</th>\n",
       "      <th>vote_average</th>\n",
       "      <th>popularity</th>\n",
       "      <th>genres</th>\n",
       "      <th>original_language</th>\n",
       "      <th>spoken_languages</th>\n",
       "      <th>poster_path</th>\n",
       "      <th>revenue</th>\n",
       "    </tr>\n",
       "  </thead>\n",
       "  <tbody>\n",
       "    <tr>\n",
       "      <th>0</th>\n",
       "      <td>Toy Story</td>\n",
       "      <td>1995</td>\n",
       "      <td>5415.0</td>\n",
       "      <td>7.7</td>\n",
       "      <td>21.946943</td>\n",
       "      <td>[Animation, Comedy, Family]</td>\n",
       "      <td>en</td>\n",
       "      <td>[]</td>\n",
       "      <td>/rhIRbceoE9lR4veEXuwCC2wARtG.jpg</td>\n",
       "      <td>373554033.0</td>\n",
       "    </tr>\n",
       "    <tr>\n",
       "      <th>1</th>\n",
       "      <td>Jumanji</td>\n",
       "      <td>1995</td>\n",
       "      <td>2413.0</td>\n",
       "      <td>6.9</td>\n",
       "      <td>17.015539</td>\n",
       "      <td>[Adventure, Fantasy, Family]</td>\n",
       "      <td>en</td>\n",
       "      <td>[]</td>\n",
       "      <td>/vzmL6fP7aPKNKPRTFnZmiUfciyV.jpg</td>\n",
       "      <td>262797249.0</td>\n",
       "    </tr>\n",
       "    <tr>\n",
       "      <th>4</th>\n",
       "      <td>Father of the Bride Part II</td>\n",
       "      <td>1995</td>\n",
       "      <td>173.0</td>\n",
       "      <td>5.7</td>\n",
       "      <td>8.387519</td>\n",
       "      <td>[Comedy]</td>\n",
       "      <td>en</td>\n",
       "      <td>[]</td>\n",
       "      <td>/e64sOI48hQXyru7naBFyssKFxVd.jpg</td>\n",
       "      <td>76578911.0</td>\n",
       "    </tr>\n",
       "    <tr>\n",
       "      <th>5</th>\n",
       "      <td>Heat</td>\n",
       "      <td>1995</td>\n",
       "      <td>1886.0</td>\n",
       "      <td>7.7</td>\n",
       "      <td>17.924927</td>\n",
       "      <td>[Action, Crime, Drama, Thriller]</td>\n",
       "      <td>en</td>\n",
       "      <td>[]</td>\n",
       "      <td>/zMyfPUelumio3tiDKPffaUpsQTD.jpg</td>\n",
       "      <td>187436818.0</td>\n",
       "    </tr>\n",
       "    <tr>\n",
       "      <th>8</th>\n",
       "      <td>Sudden Death</td>\n",
       "      <td>1995</td>\n",
       "      <td>174.0</td>\n",
       "      <td>5.5</td>\n",
       "      <td>5.23158</td>\n",
       "      <td>[Action, Adventure, Thriller]</td>\n",
       "      <td>en</td>\n",
       "      <td>[]</td>\n",
       "      <td>/eoWvKD60lT95Ss1MYNgVExpo5iU.jpg</td>\n",
       "      <td>64350171.0</td>\n",
       "    </tr>\n",
       "  </tbody>\n",
       "</table>\n",
       "</div>"
      ],
      "text/plain": [
       "                         title  year  vote_count  vote_average popularity   \n",
       "0                    Toy Story  1995      5415.0           7.7  21.946943  \\\n",
       "1                      Jumanji  1995      2413.0           6.9  17.015539   \n",
       "4  Father of the Bride Part II  1995       173.0           5.7   8.387519   \n",
       "5                         Heat  1995      1886.0           7.7  17.924927   \n",
       "8                 Sudden Death  1995       174.0           5.5    5.23158   \n",
       "\n",
       "                             genres original_language spoken_languages   \n",
       "0       [Animation, Comedy, Family]                en               []  \\\n",
       "1      [Adventure, Fantasy, Family]                en               []   \n",
       "4                          [Comedy]                en               []   \n",
       "5  [Action, Crime, Drama, Thriller]                en               []   \n",
       "8     [Action, Adventure, Thriller]                en               []   \n",
       "\n",
       "                        poster_path      revenue  \n",
       "0  /rhIRbceoE9lR4veEXuwCC2wARtG.jpg  373554033.0  \n",
       "1  /vzmL6fP7aPKNKPRTFnZmiUfciyV.jpg  262797249.0  \n",
       "4  /e64sOI48hQXyru7naBFyssKFxVd.jpg   76578911.0  \n",
       "5  /zMyfPUelumio3tiDKPffaUpsQTD.jpg  187436818.0  \n",
       "8  /eoWvKD60lT95Ss1MYNgVExpo5iU.jpg   64350171.0  "
      ]
     },
     "execution_count": 10,
     "metadata": {},
     "output_type": "execute_result"
    }
   ],
   "source": [
    "pop_data.head()"
   ]
  },
  {
   "cell_type": "code",
   "execution_count": 11,
   "id": "79508db9",
   "metadata": {},
   "outputs": [
    {
     "data": {
      "text/plain": [
       "0    []\n",
       "1    []\n",
       "4    []\n",
       "5    []\n",
       "8    []\n",
       "Name: spoken_languages, dtype: object"
      ]
     },
     "execution_count": 11,
     "metadata": {},
     "output_type": "execute_result"
    }
   ],
   "source": [
    "pop_data['spoken_languages'].head()"
   ]
  },
  {
   "cell_type": "code",
   "execution_count": 25,
   "id": "c0f74e95",
   "metadata": {},
   "outputs": [
    {
     "data": {
      "text/plain": [
       "revenue\n",
       "0.0            844\n",
       "7000000.0        5\n",
       "2000000.0        4\n",
       "25000000.0       4\n",
       "100000000.0      4\n",
       "              ... \n",
       "32801173.0       1\n",
       "5359645.0        1\n",
       "27453418.0       1\n",
       "35081550.0       1\n",
       "184770205.0      1\n",
       "Name: count, Length: 3647, dtype: int64"
      ]
     },
     "execution_count": 25,
     "metadata": {},
     "output_type": "execute_result"
    }
   ],
   "source": [
    "pop_data['revenue'].value_counts()"
   ]
  },
  {
   "cell_type": "code",
   "execution_count": 29,
   "id": "b4c833cf",
   "metadata": {},
   "outputs": [],
   "source": [
    "pop_data.to_csv('pre_final1.csv',index=False)"
   ]
  },
  {
   "cell_type": "code",
   "execution_count": 27,
   "id": "320845c9",
   "metadata": {},
   "outputs": [],
   "source": [
    "pop_data = pop_data[pop_data['revenue'] != 0]"
   ]
  },
  {
   "cell_type": "code",
   "execution_count": 12,
   "id": "ecdbeb4c",
   "metadata": {},
   "outputs": [],
   "source": [
    "pop_data = pd.read_csv('pre_final1.csv')"
   ]
  },
  {
   "cell_type": "code",
   "execution_count": 13,
   "id": "2af13dbf",
   "metadata": {},
   "outputs": [
    {
     "name": "stdout",
     "output_type": "stream",
     "text": [
      "<class 'pandas.core.frame.DataFrame'>\n",
      "RangeIndex: 3711 entries, 0 to 3710\n",
      "Data columns (total 10 columns):\n",
      " #   Column             Non-Null Count  Dtype  \n",
      "---  ------             --------------  -----  \n",
      " 0   title              3711 non-null   object \n",
      " 1   year               3711 non-null   int64  \n",
      " 2   vote_count         3711 non-null   float64\n",
      " 3   vote_average       3711 non-null   float64\n",
      " 4   popularity         3711 non-null   float64\n",
      " 5   genres             3711 non-null   object \n",
      " 6   original_language  3711 non-null   object \n",
      " 7   spoken_languages   3711 non-null   object \n",
      " 8   poster_path        3711 non-null   object \n",
      " 9   revenue            3711 non-null   float64\n",
      "dtypes: float64(4), int64(1), object(5)\n",
      "memory usage: 290.0+ KB\n"
     ]
    }
   ],
   "source": [
    "pop_data.info()"
   ]
  },
  {
   "cell_type": "code",
   "execution_count": 14,
   "id": "05323c56",
   "metadata": {},
   "outputs": [
    {
     "data": {
      "text/html": [
       "<div>\n",
       "<style scoped>\n",
       "    .dataframe tbody tr th:only-of-type {\n",
       "        vertical-align: middle;\n",
       "    }\n",
       "\n",
       "    .dataframe tbody tr th {\n",
       "        vertical-align: top;\n",
       "    }\n",
       "\n",
       "    .dataframe thead th {\n",
       "        text-align: right;\n",
       "    }\n",
       "</style>\n",
       "<table border=\"1\" class=\"dataframe\">\n",
       "  <thead>\n",
       "    <tr style=\"text-align: right;\">\n",
       "      <th></th>\n",
       "      <th>title</th>\n",
       "      <th>year</th>\n",
       "      <th>vote_count</th>\n",
       "      <th>vote_average</th>\n",
       "      <th>popularity</th>\n",
       "      <th>genres</th>\n",
       "      <th>original_language</th>\n",
       "      <th>spoken_languages</th>\n",
       "      <th>poster_path</th>\n",
       "      <th>revenue</th>\n",
       "    </tr>\n",
       "  </thead>\n",
       "  <tbody>\n",
       "    <tr>\n",
       "      <th>0</th>\n",
       "      <td>Toy Story</td>\n",
       "      <td>1995</td>\n",
       "      <td>5415.0</td>\n",
       "      <td>7.7</td>\n",
       "      <td>21.946943</td>\n",
       "      <td>['Animation', 'Comedy', 'Family']</td>\n",
       "      <td>en</td>\n",
       "      <td>[]</td>\n",
       "      <td>/rhIRbceoE9lR4veEXuwCC2wARtG.jpg</td>\n",
       "      <td>373554033.0</td>\n",
       "    </tr>\n",
       "    <tr>\n",
       "      <th>1</th>\n",
       "      <td>Jumanji</td>\n",
       "      <td>1995</td>\n",
       "      <td>2413.0</td>\n",
       "      <td>6.9</td>\n",
       "      <td>17.015539</td>\n",
       "      <td>['Adventure', 'Fantasy', 'Family']</td>\n",
       "      <td>en</td>\n",
       "      <td>[]</td>\n",
       "      <td>/vzmL6fP7aPKNKPRTFnZmiUfciyV.jpg</td>\n",
       "      <td>262797249.0</td>\n",
       "    </tr>\n",
       "    <tr>\n",
       "      <th>2</th>\n",
       "      <td>Father of the Bride Part II</td>\n",
       "      <td>1995</td>\n",
       "      <td>173.0</td>\n",
       "      <td>5.7</td>\n",
       "      <td>8.387519</td>\n",
       "      <td>['Comedy']</td>\n",
       "      <td>en</td>\n",
       "      <td>[]</td>\n",
       "      <td>/e64sOI48hQXyru7naBFyssKFxVd.jpg</td>\n",
       "      <td>76578911.0</td>\n",
       "    </tr>\n",
       "    <tr>\n",
       "      <th>3</th>\n",
       "      <td>Heat</td>\n",
       "      <td>1995</td>\n",
       "      <td>1886.0</td>\n",
       "      <td>7.7</td>\n",
       "      <td>17.924927</td>\n",
       "      <td>['Action', 'Crime', 'Drama', 'Thriller']</td>\n",
       "      <td>en</td>\n",
       "      <td>[]</td>\n",
       "      <td>/zMyfPUelumio3tiDKPffaUpsQTD.jpg</td>\n",
       "      <td>187436818.0</td>\n",
       "    </tr>\n",
       "    <tr>\n",
       "      <th>4</th>\n",
       "      <td>Sudden Death</td>\n",
       "      <td>1995</td>\n",
       "      <td>174.0</td>\n",
       "      <td>5.5</td>\n",
       "      <td>5.231580</td>\n",
       "      <td>['Action', 'Adventure', 'Thriller']</td>\n",
       "      <td>en</td>\n",
       "      <td>[]</td>\n",
       "      <td>/eoWvKD60lT95Ss1MYNgVExpo5iU.jpg</td>\n",
       "      <td>64350171.0</td>\n",
       "    </tr>\n",
       "  </tbody>\n",
       "</table>\n",
       "</div>"
      ],
      "text/plain": [
       "                         title  year  vote_count  vote_average  popularity   \n",
       "0                    Toy Story  1995      5415.0           7.7   21.946943  \\\n",
       "1                      Jumanji  1995      2413.0           6.9   17.015539   \n",
       "2  Father of the Bride Part II  1995       173.0           5.7    8.387519   \n",
       "3                         Heat  1995      1886.0           7.7   17.924927   \n",
       "4                 Sudden Death  1995       174.0           5.5    5.231580   \n",
       "\n",
       "                                     genres original_language   \n",
       "0         ['Animation', 'Comedy', 'Family']                en  \\\n",
       "1        ['Adventure', 'Fantasy', 'Family']                en   \n",
       "2                                ['Comedy']                en   \n",
       "3  ['Action', 'Crime', 'Drama', 'Thriller']                en   \n",
       "4       ['Action', 'Adventure', 'Thriller']                en   \n",
       "\n",
       "  spoken_languages                       poster_path      revenue  \n",
       "0               []  /rhIRbceoE9lR4veEXuwCC2wARtG.jpg  373554033.0  \n",
       "1               []  /vzmL6fP7aPKNKPRTFnZmiUfciyV.jpg  262797249.0  \n",
       "2               []  /e64sOI48hQXyru7naBFyssKFxVd.jpg   76578911.0  \n",
       "3               []  /zMyfPUelumio3tiDKPffaUpsQTD.jpg  187436818.0  \n",
       "4               []  /eoWvKD60lT95Ss1MYNgVExpo5iU.jpg   64350171.0  "
      ]
     },
     "execution_count": 14,
     "metadata": {},
     "output_type": "execute_result"
    }
   ],
   "source": [
    "pop_data.head()"
   ]
  },
  {
   "cell_type": "code",
   "execution_count": 31,
   "id": "966beb27",
   "metadata": {},
   "outputs": [
    {
     "data": {
      "text/plain": [
       "original_language\n",
       "en    3475\n",
       "fr      69\n",
       "ja      36\n",
       "es      29\n",
       "it      15\n",
       "de      14\n",
       "ko      10\n",
       "cn       9\n",
       "da       9\n",
       "zh       8\n",
       "sv       7\n",
       "hi       7\n",
       "ru       4\n",
       "id       3\n",
       "no       3\n",
       "th       2\n",
       "nl       2\n",
       "pt       2\n",
       "he       1\n",
       "el       1\n",
       "nb       1\n",
       "pl       1\n",
       "tr       1\n",
       "hu       1\n",
       "te       1\n",
       "Name: count, dtype: int64"
      ]
     },
     "execution_count": 31,
     "metadata": {},
     "output_type": "execute_result"
    }
   ],
   "source": [
    "pop_data['original_language'].value_counts()"
   ]
  },
  {
   "cell_type": "markdown",
   "id": "aa38dd71",
   "metadata": {},
   "source": [
    "Not sure how to handle languages with count of 1"
   ]
  },
  {
   "cell_type": "code",
   "execution_count": 32,
   "id": "5ab2ae16",
   "metadata": {},
   "outputs": [],
   "source": [
    "is_alphanumeric = data.apply(lambda x: x.astype(str).str.isalnum().all())"
   ]
  },
  {
   "cell_type": "code",
   "execution_count": 33,
   "id": "29804a1d",
   "metadata": {},
   "outputs": [
    {
     "data": {
      "text/plain": [
       "adult                    False\n",
       "belongs_to_collection    False\n",
       "budget                   False\n",
       "genres                   False\n",
       "homepage                 False\n",
       "id                       False\n",
       "imdb_id                   True\n",
       "original_language        False\n",
       "original_title           False\n",
       "overview                 False\n",
       "popularity               False\n",
       "poster_path              False\n",
       "production_companies     False\n",
       "production_countries     False\n",
       "release_date             False\n",
       "revenue                  False\n",
       "runtime                  False\n",
       "spoken_languages         False\n",
       "status                   False\n",
       "tagline                  False\n",
       "title                    False\n",
       "video                     True\n",
       "vote_average             False\n",
       "vote_count               False\n",
       "dtype: bool"
      ]
     },
     "execution_count": 33,
     "metadata": {},
     "output_type": "execute_result"
    }
   ],
   "source": [
    "is_alphanumeric"
   ]
  },
  {
   "cell_type": "code",
   "execution_count": 35,
   "id": "ebe606f4",
   "metadata": {},
   "outputs": [
    {
     "name": "stdout",
     "output_type": "stream",
     "text": [
      "Column: title\n",
      "title\n",
      "Beauty and the Beast                    3\n",
      "King Kong                               3\n",
      "Fantastic Four                          2\n",
      "Death at a Funeral                      2\n",
      "The Thing                               2\n",
      "                                       ..\n",
      "The Ring                                1\n",
      "Jason Goes to Hell: The Final Friday    1\n",
      "Saturday Night Fever                    1\n",
      "Blow Out                                1\n",
      "Wind River                              1\n",
      "Name: count, Length: 3643, dtype: int64\n",
      "\n",
      "Column: year\n",
      "year\n",
      "2014    217\n",
      "2013    199\n",
      "2016    193\n",
      "2015    193\n",
      "2011    181\n",
      "       ... \n",
      "1933      1\n",
      "1927      1\n",
      "1938      1\n",
      "1945      1\n",
      "1949      1\n",
      "Name: count, Length: 86, dtype: Int64\n",
      "\n",
      "Column: vote_count\n",
      "vote_count\n",
      "213.0     15\n",
      "194.0     14\n",
      "192.0     14\n",
      "202.0     14\n",
      "210.0     14\n",
      "          ..\n",
      "1721.0     1\n",
      "865.0      1\n",
      "1383.0     1\n",
      "2755.0     1\n",
      "2712.0     1\n",
      "Name: count, Length: 1632, dtype: int64\n",
      "\n",
      "Column: vote_average\n",
      "vote_average\n",
      "6.5    188\n",
      "6.2    182\n",
      "6.7    176\n",
      "6.6    174\n",
      "6.4    164\n",
      "6.1    156\n",
      "6.0    153\n",
      "6.3    151\n",
      "7.0    151\n",
      "5.9    146\n",
      "5.8    144\n",
      "6.9    143\n",
      "6.8    142\n",
      "7.2    140\n",
      "7.3    136\n",
      "7.1    123\n",
      "7.4    117\n",
      "5.7    108\n",
      "5.5    104\n",
      "5.6    103\n",
      "7.5     84\n",
      "7.6     79\n",
      "7.7     77\n",
      "5.4     72\n",
      "5.3     68\n",
      "7.9     53\n",
      "7.8     50\n",
      "5.2     49\n",
      "5.1     43\n",
      "5.0     37\n",
      "8.0     27\n",
      "4.9     25\n",
      "8.1     24\n",
      "4.8     19\n",
      "8.2     17\n",
      "4.7     15\n",
      "4.6     11\n",
      "8.3     10\n",
      "4.4      9\n",
      "4.5      9\n",
      "4.1      7\n",
      "4.2      6\n",
      "4.0      3\n",
      "3.8      3\n",
      "8.5      3\n",
      "3.1      2\n",
      "4.3      2\n",
      "3.0      1\n",
      "3.5      1\n",
      "9.1      1\n",
      "3.6      1\n",
      "3.2      1\n",
      "3.7      1\n",
      "Name: count, dtype: int64\n",
      "\n",
      "Column: popularity\n",
      "popularity\n",
      "9.091288     2\n",
      "8.534039     2\n",
      "12.165685    2\n",
      "21.946943    1\n",
      "9.402082     1\n",
      "            ..\n",
      "6.455738     1\n",
      "10.753445    1\n",
      "5.759483     1\n",
      "7.50381      1\n",
      "40.796775    1\n",
      "Name: count, Length: 3708, dtype: int64\n",
      "\n",
      "Column: genres\n",
      "genres\n",
      "[Comedy]                                      229\n",
      "[Drama]                                       216\n",
      "[Drama, Romance]                               96\n",
      "[Comedy, Romance]                              88\n",
      "[Horror, Thriller]                             87\n",
      "                                             ... \n",
      "[Documentary, Comedy]                           1\n",
      "[Drama, Science Fiction, Mystery, Romance]      1\n",
      "[Drama, History, Crime]                         1\n",
      "[Action, Comedy, Crime, Drama, Music]           1\n",
      "[Comedy, Family, Animation]                     1\n",
      "Name: count, Length: 1021, dtype: int64\n",
      "\n",
      "Column: original_language\n",
      "original_language\n",
      "en    3475\n",
      "fr      69\n",
      "ja      36\n",
      "es      29\n",
      "it      15\n",
      "de      14\n",
      "ko      10\n",
      "cn       9\n",
      "da       9\n",
      "zh       8\n",
      "sv       7\n",
      "hi       7\n",
      "ru       4\n",
      "id       3\n",
      "no       3\n",
      "th       2\n",
      "nl       2\n",
      "pt       2\n",
      "he       1\n",
      "el       1\n",
      "nb       1\n",
      "pl       1\n",
      "tr       1\n",
      "hu       1\n",
      "te       1\n",
      "Name: count, dtype: int64\n",
      "\n",
      "Column: spoken_languages\n",
      "spoken_languages\n",
      "[]    3711\n",
      "Name: count, dtype: int64\n",
      "\n",
      "Column: poster_path\n",
      "poster_path\n",
      "/cvNW8IXigbaMNo4gKEIps0NGnhA.jpg    2\n",
      "/nnKX3ahYoT7P3au92dNgLf4pKwA.jpg    2\n",
      "/o3Im9nPLAgtlw1j2LtpMebAotSe.jpg    2\n",
      "/rGMtc9AtZsnWSSL5VnLaGvx1PI6.jpg    2\n",
      "/rhIRbceoE9lR4veEXuwCC2wARtG.jpg    1\n",
      "                                   ..\n",
      "/zHCuiNnQu0o84vPK9vuecJ8SLZe.jpg    1\n",
      "/6ke85Kb6aX8RunZLwKpXCKYO9xv.jpg    1\n",
      "/jIDxGI6G1ctTLuPY7tA248NXTyI.jpg    1\n",
      "/75OBW467vx8ceJMSRK4NhOXk5Rc.jpg    1\n",
      "/fzsaNUcRH0cV2gg5rjQH83ZEI8M.jpg    1\n",
      "Name: count, Length: 3707, dtype: int64\n",
      "\n",
      "Column: revenue\n",
      "revenue\n",
      "7000000.0      5\n",
      "2000000.0      4\n",
      "100000000.0    4\n",
      "25000000.0     4\n",
      "2500000.0      3\n",
      "              ..\n",
      "32801173.0     1\n",
      "5359645.0      1\n",
      "27453418.0     1\n",
      "35081550.0     1\n",
      "184770205.0    1\n",
      "Name: count, Length: 3646, dtype: int64\n",
      "\n"
     ]
    }
   ],
   "source": [
    "for column in pop_data.columns:\n",
    "    value_counts = pop_data[column].value_counts()\n",
    "    print(f\"Column: {column}\")\n",
    "    print(value_counts)\n",
    "    print()"
   ]
  },
  {
   "cell_type": "code",
   "execution_count": 48,
   "id": "16ca11be",
   "metadata": {},
   "outputs": [
    {
     "data": {
      "text/plain": [
       "title\n",
       "Beauty and the Beast    3\n",
       "King Kong               3\n",
       "Fantastic Four          2\n",
       "Death at a Funeral      2\n",
       "The Thing               2\n",
       "The Illusionist         2\n",
       "Total Recall            2\n",
       "The Hitcher             2\n",
       "Oldboy                  2\n",
       "The Double              2\n",
       "Name: count, dtype: int64"
      ]
     },
     "execution_count": 48,
     "metadata": {},
     "output_type": "execute_result"
    }
   ],
   "source": [
    "pop_data['title'].value_counts().head(10)"
   ]
  },
  {
   "cell_type": "code",
   "execution_count": 31,
   "id": "ce72ca0c",
   "metadata": {},
   "outputs": [
    {
     "data": {
      "text/plain": [
       "Index(['title', 'year', 'vote_count', 'vote_average', 'popularity', 'genres',\n",
       "       'original_language', 'spoken_languages', 'poster_path', 'revenue'],\n",
       "      dtype='object')"
      ]
     },
     "execution_count": 31,
     "metadata": {},
     "output_type": "execute_result"
    }
   ],
   "source": [
    "pop_data.columns"
   ]
  },
  {
   "cell_type": "markdown",
   "id": "adec0643",
   "metadata": {},
   "source": [
    "May be adding suffix is great not sure"
   ]
  },
  {
   "cell_type": "markdown",
   "id": "bea2827f",
   "metadata": {},
   "source": [
    "## Bayesian Average\n",
    "\n",
    "\n",
    "- I am not sure how `popularity` calculated, i think its about how well known movie is\n",
    "- `vote_counts` refers to total number of people who rated particular movie\n",
    "\n",
    "\n",
    "- By considering both `popularity`, `vote_counts` we can find widely known & large of people voted\n",
    "- Bayesian looks at how popular a movie is & how many votes it has received from viewers"
   ]
  },
  {
   "cell_type": "code",
   "execution_count": 32,
   "id": "9301d17d",
   "metadata": {},
   "outputs": [
    {
     "data": {
      "text/plain": [
       "<AxesSubplot:ylabel='Frequency'>"
      ]
     },
     "execution_count": 32,
     "metadata": {},
     "output_type": "execute_result"
    },
    {
     "data": {
      "image/png": "[encoded data removed]",
      "text/plain": [
       "<Figure size 640x480 with 1 Axes>"
      ]
     },
     "metadata": {},
     "output_type": "display_data"
    }
   ],
   "source": [
    "pop_data['vote_count'].plot(kind='hist')"
   ]
  },
  {
   "cell_type": "code",
   "execution_count": 33,
   "id": "4f60a949",
   "metadata": {},
   "outputs": [
    {
     "data": {
      "text/plain": [
       "count     3711.000000\n",
       "mean      1063.302075\n",
       "std       1389.606364\n",
       "min        160.000000\n",
       "25%        293.000000\n",
       "50%        540.000000\n",
       "75%       1203.000000\n",
       "max      14075.000000\n",
       "Name: vote_count, dtype: float64"
      ]
     },
     "execution_count": 33,
     "metadata": {},
     "output_type": "execute_result"
    }
   ],
   "source": [
    "pop_data['vote_count'].describe()"
   ]
  },
  {
   "cell_type": "markdown",
   "id": "f4a66d7e",
   "metadata": {},
   "source": [
    "- Majority of the movies has less `vote_counts`"
   ]
  },
  {
   "cell_type": "markdown",
   "id": "a30f1fac",
   "metadata": {},
   "source": [
    "- v is the vote_counts of movie\n",
    "- m is minimum votes for a movie\n",
    "- popularity denotes popularity of each movie & population_mean is average of popularity"
   ]
  },
  {
   "cell_type": "code",
   "execution_count": 497,
   "id": "c8acedf8",
   "metadata": {},
   "outputs": [
    {
     "data": {
      "text/plain": [
       "472.54439715276516"
      ]
     },
     "execution_count": 497,
     "metadata": {},
     "output_type": "execute_result"
    }
   ],
   "source": [
    "(4729 / (4729 + 750) * 547.488)"
   ]
  },
  {
   "cell_type": "code",
   "execution_count": 507,
   "id": "93021467",
   "metadata": {},
   "outputs": [
    {
     "data": {
      "text/plain": [
       "2.316116079576565"
      ]
     },
     "execution_count": 507,
     "metadata": {},
     "output_type": "execute_result"
    }
   ],
   "source": [
    "( 750 / (750 + 4729) *  16.92)"
   ]
  },
  {
   "cell_type": "code",
   "execution_count": 508,
   "id": "ff313a8d",
   "metadata": {},
   "outputs": [
    {
     "data": {
      "text/plain": [
       "16.928230127094974"
      ]
     },
     "execution_count": 508,
     "metadata": {},
     "output_type": "execute_result"
    }
   ],
   "source": [
    "popular_movies['popularity'].mean()"
   ]
  },
  {
   "cell_type": "code",
   "execution_count": 511,
   "id": "62c50e6f",
   "metadata": {},
   "outputs": [],
   "source": [
    "def calculate_weighted_rating(x, m, popularity_mean):\n",
    "    v = x['vote_count']\n",
    "    popularity = x['popularity']\n",
    "    return (v / (v + m) * popularity) + (m / (v + m) * popularity_mean)"
   ]
  },
  {
   "cell_type": "code",
   "execution_count": 512,
   "id": "8c0a277c",
   "metadata": {},
   "outputs": [],
   "source": [
    "min_votes = 750\n",
    "\n",
    "# Filtering movies based on the minimum number of votes\n",
    "popular_movies = df[df['vote_count'] >= min_votes]\n",
    "\n",
    "popularity_mean = popular_movies['popularity'].mean()\n",
    "\n",
    "# Applying weighted rating function to each movie\n",
    "popular_movies['weighted_rating'] = popular_movies.apply(lambda x: calculate_weighted_rating(x, min_votes, popularity_mean), axis=1)"
   ]
  },
  {
   "cell_type": "markdown",
   "id": "6ac59b62",
   "metadata": {},
   "source": [
    "- setting high `min_votes` will result smaller subset of movies, which has significant number of views, & we don't want less relaible movies.\n",
    "\n",
    "- Now filtering movies where `vote_count` should be greater than `750`\n",
    "\n",
    "- `(x,m)` takes a row of movie data (x) where row contains `title`, `popularity` & more and the threshold value (m) for the minimum number of votes required for movie to consider that movie as popular\n",
    "\n",
    "- `(v / (v + m)` represents the contribution of the popularity score to the weighted rating. It measures how popular the movie is relative to the threshold value m\n",
    "\n",
    "- other takes into account the average rating given by viewers."
   ]
  },
  {
   "cell_type": "markdown",
   "id": "31583e95",
   "metadata": {},
   "source": [
    "popular_movies.to_csv('all_not_sorted.csv',index=False)"
   ]
  },
  {
   "cell_type": "code",
   "execution_count": 516,
   "id": "b8d52a4c",
   "metadata": {},
   "outputs": [],
   "source": [
    "popular_movies_sorted = popular_movies.sort_values('weighted_rating', ascending=False)"
   ]
  },
  {
   "cell_type": "code",
   "execution_count": 517,
   "id": "54378c84",
   "metadata": {},
   "outputs": [
    {
     "data": {
      "text/html": [
       "<div>\n",
       "<style scoped>\n",
       "    .dataframe tbody tr th:only-of-type {\n",
       "        vertical-align: middle;\n",
       "    }\n",
       "\n",
       "    .dataframe tbody tr th {\n",
       "        vertical-align: top;\n",
       "    }\n",
       "\n",
       "    .dataframe thead th {\n",
       "        text-align: right;\n",
       "    }\n",
       "</style>\n",
       "<table border=\"1\" class=\"dataframe\">\n",
       "  <thead>\n",
       "    <tr style=\"text-align: right;\">\n",
       "      <th></th>\n",
       "      <th>title</th>\n",
       "      <th>year</th>\n",
       "      <th>vote_count</th>\n",
       "      <th>vote_average</th>\n",
       "      <th>popularity</th>\n",
       "      <th>genres</th>\n",
       "      <th>original_language</th>\n",
       "      <th>weighted_rating</th>\n",
       "    </tr>\n",
       "  </thead>\n",
       "  <tbody>\n",
       "    <tr>\n",
       "      <th>1393</th>\n",
       "      <td>Minions</td>\n",
       "      <td>2015</td>\n",
       "      <td>4729.0</td>\n",
       "      <td>6.4</td>\n",
       "      <td>547.488298</td>\n",
       "      <td>['Family', 'Animation', 'Adventure', 'Comedy']</td>\n",
       "      <td>en</td>\n",
       "      <td>474.861897</td>\n",
       "    </tr>\n",
       "    <tr>\n",
       "      <th>1278</th>\n",
       "      <td>Wonder Woman</td>\n",
       "      <td>2017</td>\n",
       "      <td>5025.0</td>\n",
       "      <td>7.2</td>\n",
       "      <td>294.337037</td>\n",
       "      <td>['Action', 'Adventure', 'Fantasy']</td>\n",
       "      <td>en</td>\n",
       "      <td>258.309919</td>\n",
       "    </tr>\n",
       "    <tr>\n",
       "      <th>1375</th>\n",
       "      <td>Beauty and the Beast</td>\n",
       "      <td>2017</td>\n",
       "      <td>5530.0</td>\n",
       "      <td>6.8</td>\n",
       "      <td>287.253654</td>\n",
       "      <td>['Family', 'Fantasy', 'Romance']</td>\n",
       "      <td>en</td>\n",
       "      <td>254.969567</td>\n",
       "    </tr>\n",
       "    <tr>\n",
       "      <th>1184</th>\n",
       "      <td>Big Hero 6</td>\n",
       "      <td>2014</td>\n",
       "      <td>6289.0</td>\n",
       "      <td>7.8</td>\n",
       "      <td>213.849907</td>\n",
       "      <td>['Adventure', 'Family', 'Animation', 'Action', 'Comedy']</td>\n",
       "      <td>en</td>\n",
       "      <td>192.868055</td>\n",
       "    </tr>\n",
       "    <tr>\n",
       "      <th>1379</th>\n",
       "      <td>Deadpool</td>\n",
       "      <td>2016</td>\n",
       "      <td>11444.0</td>\n",
       "      <td>7.4</td>\n",
       "      <td>187.860492</td>\n",
       "      <td>['Action', 'Adventure', 'Comedy']</td>\n",
       "      <td>en</td>\n",
       "      <td>177.347191</td>\n",
       "    </tr>\n",
       "    <tr>\n",
       "      <th>1404</th>\n",
       "      <td>Avatar</td>\n",
       "      <td>2009</td>\n",
       "      <td>12114.0</td>\n",
       "      <td>7.2</td>\n",
       "      <td>185.070892</td>\n",
       "      <td>['Action', 'Adventure', 'Fantasy', 'Science Fiction']</td>\n",
       "      <td>en</td>\n",
       "      <td>175.267798</td>\n",
       "    </tr>\n",
       "    <tr>\n",
       "      <th>814</th>\n",
       "      <td>Baby Driver</td>\n",
       "      <td>2017</td>\n",
       "      <td>2083.0</td>\n",
       "      <td>7.2</td>\n",
       "      <td>228.032744</td>\n",
       "      <td>['Action', 'Crime']</td>\n",
       "      <td>en</td>\n",
       "      <td>172.145562</td>\n",
       "    </tr>\n",
       "    <tr>\n",
       "      <th>1350</th>\n",
       "      <td>John Wick</td>\n",
       "      <td>2014</td>\n",
       "      <td>5499.0</td>\n",
       "      <td>7.0</td>\n",
       "      <td>183.870374</td>\n",
       "      <td>['Action', 'Thriller']</td>\n",
       "      <td>en</td>\n",
       "      <td>163.834111</td>\n",
       "    </tr>\n",
       "    <tr>\n",
       "      <th>1152</th>\n",
       "      <td>Guardians of the Galaxy Vol. 2</td>\n",
       "      <td>2017</td>\n",
       "      <td>4858.0</td>\n",
       "      <td>7.6</td>\n",
       "      <td>185.330992</td>\n",
       "      <td>['Action', 'Adventure', 'Comedy', 'Science Fiction']</td>\n",
       "      <td>en</td>\n",
       "      <td>162.809225</td>\n",
       "    </tr>\n",
       "    <tr>\n",
       "      <th>1132</th>\n",
       "      <td>Gone Girl</td>\n",
       "      <td>2014</td>\n",
       "      <td>6023.0</td>\n",
       "      <td>7.9</td>\n",
       "      <td>154.801009</td>\n",
       "      <td>['Mystery', 'Thriller', 'Drama']</td>\n",
       "      <td>en</td>\n",
       "      <td>139.533833</td>\n",
       "    </tr>\n",
       "  </tbody>\n",
       "</table>\n",
       "</div>"
      ],
      "text/plain": [
       "                               title  year  vote_count  vote_average   \n",
       "1393                         Minions  2015      4729.0           6.4  \\\n",
       "1278                    Wonder Woman  2017      5025.0           7.2   \n",
       "1375            Beauty and the Beast  2017      5530.0           6.8   \n",
       "1184                      Big Hero 6  2014      6289.0           7.8   \n",
       "1379                        Deadpool  2016     11444.0           7.4   \n",
       "1404                          Avatar  2009     12114.0           7.2   \n",
       "814                      Baby Driver  2017      2083.0           7.2   \n",
       "1350                       John Wick  2014      5499.0           7.0   \n",
       "1152  Guardians of the Galaxy Vol. 2  2017      4858.0           7.6   \n",
       "1132                       Gone Girl  2014      6023.0           7.9   \n",
       "\n",
       "      popularity                                                    genres   \n",
       "1393  547.488298            ['Family', 'Animation', 'Adventure', 'Comedy']  \\\n",
       "1278  294.337037                        ['Action', 'Adventure', 'Fantasy']   \n",
       "1375  287.253654                          ['Family', 'Fantasy', 'Romance']   \n",
       "1184  213.849907  ['Adventure', 'Family', 'Animation', 'Action', 'Comedy']   \n",
       "1379  187.860492                         ['Action', 'Adventure', 'Comedy']   \n",
       "1404  185.070892     ['Action', 'Adventure', 'Fantasy', 'Science Fiction']   \n",
       "814   228.032744                                       ['Action', 'Crime']   \n",
       "1350  183.870374                                    ['Action', 'Thriller']   \n",
       "1152  185.330992      ['Action', 'Adventure', 'Comedy', 'Science Fiction']   \n",
       "1132  154.801009                          ['Mystery', 'Thriller', 'Drama']   \n",
       "\n",
       "     original_language  weighted_rating  \n",
       "1393                en       474.861897  \n",
       "1278                en       258.309919  \n",
       "1375                en       254.969567  \n",
       "1184                en       192.868055  \n",
       "1379                en       177.347191  \n",
       "1404                en       175.267798  \n",
       "814                 en       172.145562  \n",
       "1350                en       163.834111  \n",
       "1152                en       162.809225  \n",
       "1132                en       139.533833  "
      ]
     },
     "execution_count": 517,
     "metadata": {},
     "output_type": "execute_result"
    }
   ],
   "source": [
    "popular_movies_sorted.head(10)"
   ]
  },
  {
   "cell_type": "markdown",
   "id": "af6a2d2d",
   "metadata": {},
   "source": [
    "popular_movies_sorted.to_csv('perfect.csv',index=False)"
   ]
  },
  {
   "cell_type": "code",
   "execution_count": 518,
   "id": "db1a50dc",
   "metadata": {},
   "outputs": [
    {
     "data": {
      "text/plain": [
       "(1432, 8)"
      ]
     },
     "execution_count": 518,
     "metadata": {},
     "output_type": "execute_result"
    }
   ],
   "source": [
    "popular_movies_sorted.shape"
   ]
  },
  {
   "cell_type": "code",
   "execution_count": 519,
   "id": "a8226c7a",
   "metadata": {},
   "outputs": [
    {
     "data": {
      "text/plain": [
       "Index(['title', 'year', 'vote_count', 'vote_average', 'popularity', 'genres',\n",
       "       'original_language', 'weighted_rating'],\n",
       "      dtype='object')"
      ]
     },
     "execution_count": 519,
     "metadata": {},
     "output_type": "execute_result"
    }
   ],
   "source": [
    "popular_movies_sorted.columns"
   ]
  },
  {
   "cell_type": "markdown",
   "id": "f4a010a1",
   "metadata": {},
   "source": [
    "df1 = popular_movies_sorted[['title', 'year', 'vote_count', 'vote_average', \n",
    "                             'popularity', 'genres', 'original_language', 'weighted_rating']]"
   ]
  },
  {
   "cell_type": "markdown",
   "id": "73ec87f8",
   "metadata": {},
   "source": [
    "df1.to_csv('sorted_pop.csv',index=False)"
   ]
  },
  {
   "cell_type": "code",
   "execution_count": 3,
   "id": "7797d533",
   "metadata": {},
   "outputs": [
    {
     "data": {
      "text/html": [
       "<div>\n",
       "<style scoped>\n",
       "    .dataframe tbody tr th:only-of-type {\n",
       "        vertical-align: middle;\n",
       "    }\n",
       "\n",
       "    .dataframe tbody tr th {\n",
       "        vertical-align: top;\n",
       "    }\n",
       "\n",
       "    .dataframe thead th {\n",
       "        text-align: right;\n",
       "    }\n",
       "</style>\n",
       "<table border=\"1\" class=\"dataframe\">\n",
       "  <thead>\n",
       "    <tr style=\"text-align: right;\">\n",
       "      <th></th>\n",
       "      <th>title</th>\n",
       "      <th>year</th>\n",
       "      <th>vote_count</th>\n",
       "      <th>vote_average</th>\n",
       "      <th>popularity</th>\n",
       "      <th>genres</th>\n",
       "      <th>original_language</th>\n",
       "      <th>weighted_rating</th>\n",
       "    </tr>\n",
       "  </thead>\n",
       "  <tbody>\n",
       "    <tr>\n",
       "      <th>0</th>\n",
       "      <td>The Great Dictator</td>\n",
       "      <td>1940</td>\n",
       "      <td>756.0</td>\n",
       "      <td>8.1</td>\n",
       "      <td>9.241748</td>\n",
       "      <td>['Comedy']</td>\n",
       "      <td>en</td>\n",
       "      <td>12.496529</td>\n",
       "    </tr>\n",
       "    <tr>\n",
       "      <th>1</th>\n",
       "      <td>Cinema Paradiso</td>\n",
       "      <td>1988</td>\n",
       "      <td>834.0</td>\n",
       "      <td>8.2</td>\n",
       "      <td>14.177005</td>\n",
       "      <td>['Drama', 'Romance']</td>\n",
       "      <td>it</td>\n",
       "      <td>12.332685</td>\n",
       "    </tr>\n",
       "    <tr>\n",
       "      <th>2</th>\n",
       "      <td>Blue Velvet</td>\n",
       "      <td>1986</td>\n",
       "      <td>758.0</td>\n",
       "      <td>7.7</td>\n",
       "      <td>7.882247</td>\n",
       "      <td>['Crime', 'Drama', 'Mystery', 'Thriller']</td>\n",
       "      <td>en</td>\n",
       "      <td>12.289637</td>\n",
       "    </tr>\n",
       "  </tbody>\n",
       "</table>\n",
       "</div>"
      ],
      "text/plain": [
       "                title  year  vote_count  vote_average  popularity   \n",
       "0  The Great Dictator  1940       756.0           8.1    9.241748  \\\n",
       "1     Cinema Paradiso  1988       834.0           8.2   14.177005   \n",
       "2         Blue Velvet  1986       758.0           7.7    7.882247   \n",
       "\n",
       "                                      genres original_language   \n",
       "0                                 ['Comedy']                en  \\\n",
       "1                       ['Drama', 'Romance']                it   \n",
       "2  ['Crime', 'Drama', 'Mystery', 'Thriller']                en   \n",
       "\n",
       "   weighted_rating  \n",
       "0        12.496529  \n",
       "1        12.332685  \n",
       "2        12.289637  "
      ]
     },
     "execution_count": 3,
     "metadata": {},
     "output_type": "execute_result"
    }
   ],
   "source": [
    "df = pd.read_csv('sorted_pop.csv')\n",
    "df.head(3)"
   ]
  },
  {
   "cell_type": "markdown",
   "id": "0066b17a",
   "metadata": {},
   "source": [
    "# Model Building"
   ]
  },
  {
   "cell_type": "code",
   "execution_count": 593,
   "id": "49d6cec6",
   "metadata": {},
   "outputs": [],
   "source": [
    "def recommend_popular_movies(X, genre, language=None, percentile=0.85):\n",
    "    df = X[X['genres'].str.contains(genre)]\n",
    "    if language:\n",
    "        df = df[df['original_language'] == language]\n",
    "    \n",
    "    vote_counts = df[df['vote_count'].notnull()]['vote_count'].astype('int')\n",
    "    vote_averages = df[df['vote_average'].notnull()]['vote_average'].astype('int')\n",
    "    C = vote_averages.mean()\n",
    "    m = vote_counts.quantile(percentile)\n",
    "    \n",
    "    qualified = df[(df['vote_count'] >= m) & (df['vote_count'].notnull()) & (df['vote_average'].notnull())][['title', 'year', 'vote_count', 'vote_average', 'popularity']]\n",
    "    qualified['vote_count'] = qualified['vote_count'].astype('int')\n",
    "    qualified['vote_average'] = qualified['vote_average'].astype('int')\n",
    "    \n",
    "    qualified['weighted_rating'] = qualified.apply(lambda x: (x['vote_count']/(x['vote_count']+m) * x['vote_average']) + (m/(m+x['vote_count']) * C), axis=1)\n",
    "    qualified = qualified.sort_values('weighted_rating', ascending=False).head(250)\n",
    "    \n",
    "    return qualified"
   ]
  },
  {
   "cell_type": "code",
   "execution_count": 606,
   "id": "e969e3a0",
   "metadata": {},
   "outputs": [
    {
     "name": "stderr",
     "output_type": "stream",
     "text": [
      "C:\\Users\\Bhargav\\AppData\\Local\\Temp\\ipykernel_18392\\1087093935.py:1: DtypeWarning: Columns (10) have mixed types. Specify dtype option on import or set low_memory=False.\n",
      "  d1 = pd.read_csv('movies_metadata.csv')\n"
     ]
    }
   ],
   "source": [
    "d1 = pd.read_csv('movies_metadata.csv')\n",
    "d2 = pd.read_csv('ratings_small.csv')"
   ]
  },
  {
   "cell_type": "code",
   "execution_count": 22,
   "id": "0e836025",
   "metadata": {},
   "outputs": [
    {
     "name": "stdout",
     "output_type": "stream",
     "text": [
      "Index(['adult', 'belongs_to_collection', 'budget', 'genres', 'homepage', 'id',\n",
      "       'imdb_id', 'original_language', 'original_title', 'overview',\n",
      "       'popularity', 'poster_path', 'production_companies',\n",
      "       'production_countries', 'release_date', 'revenue', 'runtime',\n",
      "       'spoken_languages', 'status', 'tagline', 'title', 'video',\n",
      "       'vote_average', 'vote_count'],\n",
      "      dtype='object')\n"
     ]
    }
   ],
   "source": [
    "print(d1.columns)"
   ]
  },
  {
   "cell_type": "code",
   "execution_count": 23,
   "id": "4ef99beb",
   "metadata": {},
   "outputs": [
    {
     "name": "stdout",
     "output_type": "stream",
     "text": [
      "Index(['userId', 'movieId', 'rating', 'timestamp'], dtype='object')\n"
     ]
    }
   ],
   "source": [
    "print(d2.columns)"
   ]
  },
  {
   "cell_type": "code",
   "execution_count": 25,
   "id": "86360422",
   "metadata": {},
   "outputs": [
    {
     "data": {
      "text/plain": [
       "0      862\n",
       "1     8844\n",
       "2    15602\n",
       "3    31357\n",
       "4    11862\n",
       "Name: id, dtype: object"
      ]
     },
     "execution_count": 25,
     "metadata": {},
     "output_type": "execute_result"
    }
   ],
   "source": [
    "d1['id'].head()"
   ]
  },
  {
   "cell_type": "code",
   "execution_count": 26,
   "id": "28eaebf3",
   "metadata": {},
   "outputs": [
    {
     "data": {
      "text/plain": [
       "0      31\n",
       "1    1029\n",
       "2    1061\n",
       "3    1129\n",
       "4    1172\n",
       "Name: movieId, dtype: int64"
      ]
     },
     "execution_count": 26,
     "metadata": {},
     "output_type": "execute_result"
    }
   ],
   "source": [
    "d2['movieId'].head()"
   ]
  },
  {
   "cell_type": "code",
   "execution_count": 617,
   "id": "d24d287a",
   "metadata": {},
   "outputs": [
    {
     "name": "stdout",
     "output_type": "stream",
     "text": [
      "<class 'pandas.core.frame.DataFrame'>\n",
      "RangeIndex: 45466 entries, 0 to 45465\n",
      "Data columns (total 24 columns):\n",
      " #   Column                 Non-Null Count  Dtype  \n",
      "---  ------                 --------------  -----  \n",
      " 0   adult                  45466 non-null  object \n",
      " 1   belongs_to_collection  4494 non-null   object \n",
      " 2   budget                 45466 non-null  object \n",
      " 3   genres                 45466 non-null  object \n",
      " 4   homepage               7782 non-null   object \n",
      " 5   id                     45466 non-null  object \n",
      " 6   imdb_id                45449 non-null  object \n",
      " 7   original_language      45455 non-null  object \n",
      " 8   original_title         45466 non-null  object \n",
      " 9   overview               44512 non-null  object \n",
      " 10  popularity             45461 non-null  object \n",
      " 11  poster_path            45080 non-null  object \n",
      " 12  production_companies   45463 non-null  object \n",
      " 13  production_countries   45463 non-null  object \n",
      " 14  release_date           45379 non-null  object \n",
      " 15  revenue                45460 non-null  float64\n",
      " 16  runtime                45203 non-null  float64\n",
      " 17  spoken_languages       45460 non-null  object \n",
      " 18  status                 45379 non-null  object \n",
      " 19  tagline                20412 non-null  object \n",
      " 20  title                  45460 non-null  object \n",
      " 21  video                  45460 non-null  object \n",
      " 22  vote_average           45460 non-null  float64\n",
      " 23  vote_count             45460 non-null  float64\n",
      "dtypes: float64(4), object(20)\n",
      "memory usage: 8.3+ MB\n"
     ]
    }
   ],
   "source": [
    "d1.info()"
   ]
  },
  {
   "cell_type": "code",
   "execution_count": 619,
   "id": "25ce1625",
   "metadata": {},
   "outputs": [
    {
     "name": "stdout",
     "output_type": "stream",
     "text": [
      "<class 'pandas.core.frame.DataFrame'>\n",
      "RangeIndex: 100004 entries, 0 to 100003\n",
      "Data columns (total 4 columns):\n",
      " #   Column     Non-Null Count   Dtype  \n",
      "---  ------     --------------   -----  \n",
      " 0   userId     100004 non-null  int64  \n",
      " 1   movieId    100004 non-null  int64  \n",
      " 2   rating     100004 non-null  float64\n",
      " 3   timestamp  100004 non-null  int64  \n",
      "dtypes: float64(1), int64(3)\n",
      "memory usage: 3.1 MB\n"
     ]
    }
   ],
   "source": [
    "d2.info()"
   ]
  },
  {
   "cell_type": "code",
   "execution_count": 618,
   "id": "7f63aed5",
   "metadata": {},
   "outputs": [
    {
     "name": "stdout",
     "output_type": "stream",
     "text": [
      "<class 'pandas.core.frame.DataFrame'>\n",
      "Index: 45463 entries, 0 to 45465\n",
      "Data columns (total 24 columns):\n",
      " #   Column                 Non-Null Count  Dtype  \n",
      "---  ------                 --------------  -----  \n",
      " 0   adult                  45463 non-null  object \n",
      " 1   belongs_to_collection  4491 non-null   object \n",
      " 2   budget                 45463 non-null  object \n",
      " 3   genres                 45463 non-null  object \n",
      " 4   homepage               7779 non-null   object \n",
      " 5   id                     45463 non-null  int32  \n",
      " 6   imdb_id                45446 non-null  object \n",
      " 7   original_language      45452 non-null  object \n",
      " 8   original_title         45463 non-null  object \n",
      " 9   overview               44509 non-null  object \n",
      " 10  popularity             45460 non-null  object \n",
      " 11  poster_path            45077 non-null  object \n",
      " 12  production_companies   45460 non-null  object \n",
      " 13  production_countries   45460 non-null  object \n",
      " 14  release_date           45376 non-null  object \n",
      " 15  revenue                45460 non-null  float64\n",
      " 16  runtime                45203 non-null  float64\n",
      " 17  spoken_languages       45460 non-null  object \n",
      " 18  status                 45379 non-null  object \n",
      " 19  tagline                20412 non-null  object \n",
      " 20  title                  45460 non-null  object \n",
      " 21  video                  45460 non-null  object \n",
      " 22  vote_average           45460 non-null  float64\n",
      " 23  vote_count             45460 non-null  float64\n",
      "dtypes: float64(4), int32(1), object(19)\n",
      "memory usage: 8.5+ MB\n"
     ]
    }
   ],
   "source": [
    "df.info()"
   ]
  },
  {
   "cell_type": "code",
   "execution_count": 614,
   "id": "f2872e04",
   "metadata": {},
   "outputs": [
    {
     "name": "stderr",
     "output_type": "stream",
     "text": [
      "C:\\Users\\Bhargav\\AppData\\Local\\Temp\\ipykernel_18392\\1402095617.py:2: SettingWithCopyWarning: \n",
      "A value is trying to be set on a copy of a slice from a DataFrame.\n",
      "Try using .loc[row_indexer,col_indexer] = value instead\n",
      "\n",
      "See the caveats in the documentation: https://pandas.pydata.org/pandas-docs/stable/user_guide/indexing.html#returning-a-view-versus-a-copy\n",
      "  df['id'] = df['id'].astype(int)\n"
     ]
    }
   ],
   "source": [
    "df = d1[d1['id'].str.isdigit()]\n",
    "df['id'] = df['id'].astype(int)"
   ]
  },
  {
   "cell_type": "code",
   "execution_count": 620,
   "id": "8ebd432f",
   "metadata": {},
   "outputs": [],
   "source": [
    "merged_df = pd.merge(df, d2, left_on='id', right_on='movieId')"
   ]
  }
 ],
 "metadata": {
  "kernelspec": {
   "display_name": "Python 3 (ipykernel)",
   "language": "python",
   "name": "python3"
  },
  "language_info": {
   "codemirror_mode": {
    "name": "ipython",
    "version": 3
   },
   "file_extension": ".py",
   "mimetype": "text/x-python",
   "name": "python",
   "nbconvert_exporter": "python",
   "pygments_lexer": "ipython3",
   "version": "3.11.5"
  }
 },
 "nbformat": 4,
 "nbformat_minor": 5
}
